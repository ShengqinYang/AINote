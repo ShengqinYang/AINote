{
 "cells": [
  {
   "cell_type": "code",
   "execution_count": 1,
   "metadata": {
    "collapsed": true,
    "ExecuteTime": {
     "end_time": "2023-07-25T06:36:20.538530Z",
     "start_time": "2023-07-25T06:36:20.354748Z"
    }
   },
   "outputs": [],
   "source": [
    "import openai\n",
    "import configparser\n",
    "\n",
    "conf = configparser.ConfigParser()\n",
    "conf.read(\"../config.ini\")\n",
    "openai.api_key = conf.get(\"Openai\", \"api_key\")\n"
   ]
  },
  {
   "cell_type": "code",
   "execution_count": 5,
   "outputs": [
    {
     "name": "stdout",
     "output_type": "stream",
     "text": [
      "['babbage', 'text-davinci-003', 'davinci', 'text-davinci-edit-001', 'babbage-code-search-code', 'text-similarity-babbage-001', 'code-davinci-edit-001', 'text-davinci-001', 'ada', 'babbage-code-search-text', 'babbage-similarity', 'gpt-3.5-turbo-16k-0613', 'code-search-babbage-text-001', 'text-curie-001', 'gpt-3.5-turbo-0301', 'gpt-3.5-turbo-16k', 'code-search-babbage-code-001', 'text-ada-001', 'text-similarity-ada-001', 'text-davinci-002', 'curie-instruct-beta', 'ada-code-search-code', 'ada-similarity', 'code-search-ada-text-001', 'text-search-ada-query-001', 'davinci-search-document', 'ada-code-search-text', 'text-search-ada-doc-001', 'davinci-instruct-beta', 'text-similarity-curie-001', 'code-search-ada-code-001', 'ada-search-query', 'text-search-davinci-query-001', 'curie-search-query', 'davinci-search-query', 'babbage-search-document', 'ada-search-document', 'text-search-curie-query-001', 'text-search-babbage-doc-001', 'whisper-1', 'curie-search-document', 'text-search-curie-doc-001', 'babbage-search-query', 'text-babbage-001', 'text-search-davinci-doc-001', 'text-search-babbage-query-001', 'curie-similarity', 'text-embedding-ada-002', 'curie', 'text-similarity-davinci-001', 'gpt-3.5-turbo-0613', 'davinci-similarity', 'gpt-3.5-turbo'] 53\n"
     ]
    }
   ],
   "source": [
    "all_models = openai.Model.list()\n",
    "all_models = [model.get('id') for model in all_models.get(\"data\")]\n",
    "print(all_models, len(all_models))"
   ],
   "metadata": {
    "collapsed": false,
    "ExecuteTime": {
     "end_time": "2023-07-25T06:39:35.763339Z",
     "start_time": "2023-07-25T06:39:35.305999Z"
    }
   }
  },
  {
   "cell_type": "code",
   "execution_count": 6,
   "outputs": [
    {
     "data": {
      "text/plain": "<Model model id=gpt-3.5-turbo at 0x12446d670> JSON: {\n  \"id\": \"gpt-3.5-turbo\",\n  \"object\": \"model\",\n  \"created\": 1677610602,\n  \"owned_by\": \"openai\",\n  \"permission\": [\n    {\n      \"id\": \"modelperm-ILldYg889l2lED1b99xWEfey\",\n      \"object\": \"model_permission\",\n      \"created\": 1689885359,\n      \"allow_create_engine\": false,\n      \"allow_sampling\": true,\n      \"allow_logprobs\": true,\n      \"allow_search_indices\": false,\n      \"allow_view\": true,\n      \"allow_fine_tuning\": false,\n      \"organization\": \"*\",\n      \"group\": null,\n      \"is_blocking\": false\n    }\n  ],\n  \"root\": \"gpt-3.5-turbo\",\n  \"parent\": null\n}"
     },
     "execution_count": 6,
     "metadata": {},
     "output_type": "execute_result"
    }
   ],
   "source": [
    "openai.Model.retrieve(\"gpt-3.5-turbo\")  # 获取单个模型详细信息"
   ],
   "metadata": {
    "collapsed": false,
    "ExecuteTime": {
     "end_time": "2023-07-25T06:41:35.107656Z",
     "start_time": "2023-07-25T06:41:32.340265Z"
    }
   }
  },
  {
   "cell_type": "markdown",
   "source": [
    "## OpenAI上下文补全Completions与ChatCompletions API"
   ],
   "metadata": {
    "collapsed": false
   }
  },
  {
   "cell_type": "code",
   "execution_count": 13,
   "outputs": [],
   "source": [
    "# Completion\n",
    "conversation = openai.Completion.create(\n",
    "    model='text-davinci-003',\n",
    "    prompt='You are a translation assistant',\n",
    "    max_tokens=10,\n",
    "    temperature=0.2,\n",
    "    stream=False\n",
    ")"
   ],
   "metadata": {
    "collapsed": false,
    "ExecuteTime": {
     "end_time": "2023-07-25T06:56:46.583427Z",
     "start_time": "2023-07-25T06:56:44.543968Z"
    }
   }
  },
  {
   "cell_type": "code",
   "execution_count": 20,
   "outputs": [
    {
     "name": "stdout",
     "output_type": "stream",
     "text": [
      "\n",
      "\n",
      "As a translation assistant, your job is\n"
     ]
    }
   ],
   "source": [
    "text = conversation[\"choices\"][0]['text']\n",
    "print(text)"
   ],
   "metadata": {
    "collapsed": false,
    "ExecuteTime": {
     "end_time": "2023-07-25T07:04:08.986666Z",
     "start_time": "2023-07-25T07:04:08.982473Z"
    }
   }
  },
  {
   "cell_type": "code",
   "execution_count": 17,
   "outputs": [],
   "source": [
    "conversation_2 = openai.Completion.create(\n",
    "    model='text-davinci-003',\n",
    "    prompt=text,\n",
    "    max_tokens=10,\n",
    "    temperature=0.2,\n",
    "    stream=False\n",
    ")"
   ],
   "metadata": {
    "collapsed": false,
    "ExecuteTime": {
     "end_time": "2023-07-25T07:01:04.380561Z",
     "start_time": "2023-07-25T07:01:01.694531Z"
    }
   }
  },
  {
   "cell_type": "code",
   "execution_count": 19,
   "outputs": [
    {
     "name": "stdout",
     "output_type": "stream",
     "text": [
      " to help the translator with the translation process. You\n"
     ]
    }
   ],
   "source": [
    "text2 = conversation_2[\"choices\"][0]['text']\n",
    "print(text2)"
   ],
   "metadata": {
    "collapsed": false,
    "ExecuteTime": {
     "end_time": "2023-07-25T07:03:57.457461Z",
     "start_time": "2023-07-25T07:03:57.453754Z"
    }
   }
  },
  {
   "cell_type": "code",
   "execution_count": 36,
   "outputs": [
    {
     "name": "stdout",
     "output_type": "stream",
     "text": [
      "Hello! I'm delighted to see you too. How can I assist you today?"
     ]
    }
   ],
   "source": [
    "# ChatCompletion\n",
    "message = [\n",
    "    {\"role\": \"system\", \"content\": \"You are a translation assistant, and you name is Macy, a kindness young lady.\"},\n",
    "    {\"role\": \"user\", \"content\": \"Hi Macy! I am glad to see you.\"}\n",
    "]\n",
    "conversation_3 = openai.ChatCompletion.create(\n",
    "    model='gpt-3.5-turbo',\n",
    "    messages=message,\n",
    "    max_tokens=50,\n",
    "    temperature=0.2,\n",
    "    stream=True\n",
    ")\n",
    "for event in conversation_3:\n",
    "    if event['choices'][0]['finish_reason'] != 'stop':\n",
    "        print(event['choices'][0]['delta']['content'], end='')"
   ],
   "metadata": {
    "collapsed": false,
    "ExecuteTime": {
     "end_time": "2023-07-25T07:32:06.926515Z",
     "start_time": "2023-07-25T07:31:59.378923Z"
    }
   }
  },
  {
   "cell_type": "code",
   "execution_count": null,
   "outputs": [],
   "source": [],
   "metadata": {
    "collapsed": false
   }
  }
 ],
 "metadata": {
  "kernelspec": {
   "display_name": "Python 3",
   "language": "python",
   "name": "python3"
  },
  "language_info": {
   "codemirror_mode": {
    "name": "ipython",
    "version": 2
   },
   "file_extension": ".py",
   "mimetype": "text/x-python",
   "name": "python",
   "nbconvert_exporter": "python",
   "pygments_lexer": "ipython2",
   "version": "2.7.6"
  }
 },
 "nbformat": 4,
 "nbformat_minor": 0
}
