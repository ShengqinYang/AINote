{
 "cells": [
  {
   "cell_type": "code",
   "execution_count": 6,
   "metadata": {
    "collapsed": true,
    "ExecuteTime": {
     "end_time": "2023-08-02T07:03:25.097789Z",
     "start_time": "2023-08-02T07:03:25.091302Z"
    }
   },
   "outputs": [],
   "source": [
    "import os\n",
    "import openai\n",
    "import configparser\n",
    "\n",
    "conf = configparser.ConfigParser()\n",
    "conf.read(\"../config.ini\")\n",
    "openai.api_key = conf.get(\"Openai\", \"api_key\")\n",
    "os.environ[\"HTTP_PROXY\"] = conf.get(\"Proxy\", \"HTTP_PROXY\")  # 配置自己的代理\n",
    "os.environ[\"HTTPS_PROXY\"] = conf.get(\"Proxy\", \"HTTPS_PROXY\")\n"
   ]
  },
  {
   "cell_type": "code",
   "execution_count": 3,
   "outputs": [
    {
     "name": "stdout",
     "output_type": "stream",
     "text": [
      "['text-davinci-001', 'text-search-curie-query-001', 'davinci', 'gpt-3.5-turbo-16k-0613', 'text-babbage-001', 'curie-instruct-beta', 'text-davinci-003', 'davinci-similarity', 'code-davinci-edit-001', 'text-similarity-curie-001', 'text-embedding-ada-002', 'ada-code-search-text', 'text-search-ada-query-001', 'babbage-search-query', 'ada-similarity', 'gpt-3.5-turbo', 'text-search-ada-doc-001', 'text-search-babbage-query-001', 'code-search-ada-code-001', 'curie-search-document', 'text-search-davinci-query-001', 'text-search-curie-doc-001', 'gpt-3.5-turbo-0301', 'babbage-search-document', 'babbage-code-search-text', 'whisper-1', 'gpt-3.5-turbo-16k', 'davinci-instruct-beta', 'davinci-search-query', 'text-similarity-babbage-001', 'text-davinci-002', 'code-search-babbage-text-001', 'babbage', 'text-search-davinci-doc-001', 'code-search-ada-text-001', 'ada-search-query', 'text-similarity-ada-001', 'ada-code-search-code', 'ada', 'text-davinci-edit-001', 'davinci-search-document', 'curie-search-query', 'babbage-similarity', 'ada-search-document', 'text-ada-001', 'text-similarity-davinci-001', 'curie', 'curie-similarity', 'gpt-3.5-turbo-0613', 'babbage-code-search-code', 'code-search-babbage-code-001', 'text-search-babbage-doc-001', 'text-curie-001'] 53\n"
     ]
    }
   ],
   "source": [
    "all_models = openai.Model.list()\n",
    "all_models = [model.get('id') for model in all_models.get(\"data\")]\n",
    "print(all_models, len(all_models))"
   ],
   "metadata": {
    "collapsed": false,
    "ExecuteTime": {
     "end_time": "2023-08-02T06:43:21.679929Z",
     "start_time": "2023-08-02T06:42:53.924473Z"
    }
   }
  },
  {
   "cell_type": "code",
   "execution_count": 4,
   "outputs": [
    {
     "data": {
      "text/plain": "<Model model id=gpt-3.5-turbo at 0x10aee2a20> JSON: {\n  \"id\": \"gpt-3.5-turbo\",\n  \"object\": \"model\",\n  \"created\": 1677610602,\n  \"owned_by\": \"openai\",\n  \"permission\": [\n    {\n      \"id\": \"modelperm-zy5TOjnE2zVaicIcKO9bQDgX\",\n      \"object\": \"model_permission\",\n      \"created\": 1690864883,\n      \"allow_create_engine\": false,\n      \"allow_sampling\": true,\n      \"allow_logprobs\": true,\n      \"allow_search_indices\": false,\n      \"allow_view\": true,\n      \"allow_fine_tuning\": false,\n      \"organization\": \"*\",\n      \"group\": null,\n      \"is_blocking\": false\n    }\n  ],\n  \"root\": \"gpt-3.5-turbo\",\n  \"parent\": null\n}"
     },
     "execution_count": 4,
     "metadata": {},
     "output_type": "execute_result"
    }
   ],
   "source": [
    "openai.Model.retrieve(\"gpt-3.5-turbo\")  # 获取单个模型详细信息"
   ],
   "metadata": {
    "collapsed": false,
    "ExecuteTime": {
     "end_time": "2023-08-02T06:47:32.446925Z",
     "start_time": "2023-08-02T06:47:31.458093Z"
    }
   }
  },
  {
   "cell_type": "markdown",
   "source": [
    "## OpenAI上下文补全Completions与ChatCompletions API"
   ],
   "metadata": {
    "collapsed": false
   }
  },
  {
   "cell_type": "code",
   "execution_count": 7,
   "outputs": [],
   "source": [
    "# Completion\n",
    "conversation = openai.Completion.create(\n",
    "    model='text-davinci-003',\n",
    "    prompt='You are a translation assistant',\n",
    "    max_tokens=10,\n",
    "    temperature=0.2,\n",
    "    stream=False\n",
    ")"
   ],
   "metadata": {
    "collapsed": false,
    "ExecuteTime": {
     "end_time": "2023-08-02T07:03:45.943473Z",
     "start_time": "2023-08-02T07:03:35.821811Z"
    }
   }
  },
  {
   "cell_type": "code",
   "execution_count": 8,
   "outputs": [
    {
     "name": "stdout",
     "output_type": "stream",
     "text": [
      "\n",
      "\n",
      "As a translation assistant, your job is\n"
     ]
    }
   ],
   "source": [
    "text = conversation[\"choices\"][0]['text']\n",
    "print(text)"
   ],
   "metadata": {
    "collapsed": false,
    "ExecuteTime": {
     "end_time": "2023-08-02T07:03:52.075560Z",
     "start_time": "2023-08-02T07:03:52.071034Z"
    }
   }
  },
  {
   "cell_type": "code",
   "execution_count": 17,
   "outputs": [],
   "source": [
    "conversation_2 = openai.Completion.create(\n",
    "    model='text-davinci-003',\n",
    "    prompt=text,\n",
    "    max_tokens=10,\n",
    "    temperature=0.2,\n",
    "    stream=False\n",
    ")"
   ],
   "metadata": {
    "collapsed": false,
    "ExecuteTime": {
     "end_time": "2023-07-25T07:01:04.380561Z",
     "start_time": "2023-07-25T07:01:01.694531Z"
    }
   }
  },
  {
   "cell_type": "code",
   "execution_count": 19,
   "outputs": [
    {
     "name": "stdout",
     "output_type": "stream",
     "text": [
      " to help the translator with the translation process. You\n"
     ]
    }
   ],
   "source": [
    "text2 = conversation_2[\"choices\"][0]['text']\n",
    "print(text2)"
   ],
   "metadata": {
    "collapsed": false,
    "ExecuteTime": {
     "end_time": "2023-07-25T07:03:57.457461Z",
     "start_time": "2023-07-25T07:03:57.453754Z"
    }
   }
  },
  {
   "cell_type": "code",
   "execution_count": 36,
   "outputs": [
    {
     "name": "stdout",
     "output_type": "stream",
     "text": [
      "Hello! I'm delighted to see you too. How can I assist you today?"
     ]
    }
   ],
   "source": [
    "# ChatCompletion\n",
    "message = [\n",
    "    {\"role\": \"system\", \"content\": \"You are a translation assistant, and you name is Macy, a kindness young lady.\"},\n",
    "    {\"role\": \"user\", \"content\": \"Hi Macy! I am glad to see you.\"}\n",
    "]\n",
    "conversation_3 = openai.ChatCompletion.create(\n",
    "    model='gpt-3.5-turbo',\n",
    "    messages=message,\n",
    "    max_tokens=50,\n",
    "    temperature=0.2,\n",
    "    stream=True\n",
    ")\n",
    "for event in conversation_3:\n",
    "    if event['choices'][0]['finish_reason'] != 'stop':\n",
    "        print(event['choices'][0]['delta']['content'], end='')"
   ],
   "metadata": {
    "collapsed": false,
    "ExecuteTime": {
     "end_time": "2023-07-25T07:32:06.926515Z",
     "start_time": "2023-07-25T07:31:59.378923Z"
    }
   }
  },
  {
   "cell_type": "code",
   "execution_count": null,
   "outputs": [],
   "source": [],
   "metadata": {
    "collapsed": false
   }
  }
 ],
 "metadata": {
  "kernelspec": {
   "display_name": "Python 3",
   "language": "python",
   "name": "python3"
  },
  "language_info": {
   "codemirror_mode": {
    "name": "ipython",
    "version": 2
   },
   "file_extension": ".py",
   "mimetype": "text/x-python",
   "name": "python",
   "nbconvert_exporter": "python",
   "pygments_lexer": "ipython2",
   "version": "2.7.6"
  }
 },
 "nbformat": 4,
 "nbformat_minor": 0
}
