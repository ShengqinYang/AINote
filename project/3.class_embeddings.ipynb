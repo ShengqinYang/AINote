{
 "cells": [
  {
   "cell_type": "code",
   "execution_count": 34,
   "id": "119aa8dc-7d2c-427a-a851-fd9262daaff0",
   "metadata": {
    "ExecuteTime": {
     "end_time": "2023-07-25T04:20:24.723130Z",
     "start_time": "2023-07-25T04:20:24.719655Z"
    }
   },
   "outputs": [],
   "source": [
    "import configparser\n",
    "import time\n",
    "\n",
    "import pandas as pd\n",
    "import numpy as np\n",
    "import tiktoken\n",
    "import ast\n",
    "import openai\n",
    "import matplotlib\n",
    "import matplotlib.pylab as plt\n",
    "\n",
    "from sklearn.cluster import KMeans\n",
    "from sklearn.manifold import TSNE\n",
    "from openai.embeddings_utils import get_embedding\n",
    "\n",
    "config = configparser.ConfigParser()\n",
    "config.read('../config.ini')\n",
    "openai.api_key = config.get('Openai', 'api_key')\n"
   ]
  },
  {
   "cell_type": "code",
   "execution_count": 29,
   "id": "9e252d98-8344-4a09-971f-2cafd6345268",
   "metadata": {
    "ExecuteTime": {
     "end_time": "2023-07-25T03:53:19.356118Z",
     "start_time": "2023-07-25T03:53:19.342915Z"
    }
   },
   "outputs": [],
   "source": [
    "# 加载数据集\n",
    "\n",
    "files_path = \"../datas/fine_food_reviews_3.csv\"\n",
    "df = pd.read_csv(files_path, index_col=0)\n",
    "df = df[[\"Time\", \"ProductId\", \"UserId\", \"Score\", \"Summary\", \"Text\"]]\n",
    "df = df.dropna()\n",
    "df[\"combined\"] = (\"Title：\" + df.Summary.str.strip() + \"content：\" + df.Text.str.strip())\n"
   ]
  },
  {
   "cell_type": "code",
   "execution_count": 30,
   "id": "aa3af9f1-914e-4d69-9492-a4687ac5afff",
   "metadata": {
    "ExecuteTime": {
     "end_time": "2023-07-25T03:53:32.643236Z",
     "start_time": "2023-07-25T03:53:32.639166Z"
    }
   },
   "outputs": [
    {
     "data": {
      "text/plain": "0    Title：where does one  start...and stop... with...\n1    Title：Arrived in piecescontent：不得不说这家店的环境其实还不错...\n2    Title：The Music Bar音乐吧content：“ 打卡位于望京凯悦酒店一楼的 ...\n3    Title：The Music Bar音乐吧content：酒单上的威士忌酸88~结账到最后...\n4    Title：The Magic Barcontent：'服务满分，环境中规中矩，音乐真心受不...\nName: combined, dtype: object"
     },
     "execution_count": 30,
     "metadata": {},
     "output_type": "execute_result"
    }
   ],
   "source": [
    "df[\"combined\"]"
   ]
  },
  {
   "cell_type": "code",
   "execution_count": 31,
   "outputs": [],
   "source": [
    "embedding_model = \"text-embedding-ada-002\"\n",
    "embedding_encoding = \"cl100k_base\"\n",
    "max_tokens = 8000"
   ],
   "metadata": {
    "collapsed": false,
    "ExecuteTime": {
     "end_time": "2023-07-25T03:53:36.290319Z",
     "start_time": "2023-07-25T03:53:36.260016Z"
    }
   }
  },
  {
   "cell_type": "code",
   "execution_count": 35,
   "outputs": [
    {
     "name": "stdout",
     "output_type": "stream",
     "text": [
      "0 Title：where does one  start...and stop... with a treat like thiscontent：下雨天先到中星城避个雨，正好一层有这家COSTA COFFEE，也就顺便打个卡。就在商场的入口处，开放式的餐区与商场合体，冬天的话暖气不足就感觉还是有点冷，不能脱掉外套。这样就需要来杯热美式咖啡来暖暖身体了。大杯的量很足，喝了半天也没喝完[偷笑]。\n",
      "1 Title：Arrived in piecescontent：不得不说这家店的环境其实还不错，但是因为层高的关系，又是一楼对着门，所以感觉好冷，在连续下雨的天气里，那个体感可是很不好。一杯美式咖啡，可以选择上等咖啡豆，➕5元，试试吧，口感上更烘培更深度，个人觉得一般。\n",
      "2 Title：The Music Bar音乐吧content：“ 打卡位于望京凯悦酒店一楼的 Music bar，环境真的很舒服，相信大多数人都会喜欢这种feel经典格兰杰跟大都会非常好喝，炸小河虾跟盐炯银杏十分美味，下酒够了 推荐:炸小河虾“\n",
      "3 Title：The Music Bar音乐吧content：酒单上的威士忌酸88~结账到最后，告诉升级版一定要睁眼看看结账单!108! 整个这个强盗啊!\n",
      "4 Title：The Magic Barcontent：'服务满分，环境中规中矩，音乐真心受不了，清吧你请乐队来唱一晚上，几个人想聊聊天一个字也听不到。乐队休息的时候音乐放得比夜店音乐还大，震得想吐，不会再来......'\n"
     ]
    }
   ],
   "source": [
    "embeddings_list = []\n",
    "\n",
    "for index,value in enumerate(df.combined):\n",
    "    print(index, value)\n",
    "    if index==3:\n",
    "        time.sleep(60)\n",
    "    embedding = get_embedding(value, engine=embedding_model)\n",
    "    embeddings_list.append(embedding)\n",
    "df['embedding'] = embeddings_list\n",
    "\n",
    "# df[\"embedding\"] = df.combined.apply(lambda x: get_embedding(x, engine=embedding_model))\n",
    "output_datapath = \"../datas/fine_food_reviews_with_embeddings_3.csv\"\n",
    "#\n",
    "df.to_csv(output_datapath)"
   ],
   "metadata": {
    "collapsed": false,
    "ExecuteTime": {
     "end_time": "2023-07-25T04:21:48.466530Z",
     "start_time": "2023-07-25T04:20:41.499969Z"
    }
   }
  },
  {
   "cell_type": "code",
   "execution_count": 36,
   "outputs": [],
   "source": [
    "# files_path=\"../datas/fine_food_reviews_with_embeddings_1k.csv\"\n",
    "files_path=\"../datas/fine_food_reviews_with_embeddings_3.csv\"\n",
    "df_embeded = pd.read_csv(files_path,index_col=0)\n",
    "\n",
    "# 将字符串转换为向量\n",
    "df_embeded[\"embedding_vec\"] = df_embeded[\"embedding\"].apply(ast.literal_eval)"
   ],
   "metadata": {
    "collapsed": false,
    "ExecuteTime": {
     "end_time": "2023-07-25T04:24:37.982396Z",
     "start_time": "2023-07-25T04:24:37.949427Z"
    }
   }
  },
  {
   "cell_type": "code",
   "execution_count": 37,
   "outputs": [
    {
     "data": {
      "text/plain": "pandas.core.series.Series"
     },
     "execution_count": 37,
     "metadata": {},
     "output_type": "execute_result"
    }
   ],
   "source": [
    "type(df_embeded[\"embedding_vec\"])"
   ],
   "metadata": {
    "collapsed": false,
    "ExecuteTime": {
     "end_time": "2023-07-25T04:24:40.609584Z",
     "start_time": "2023-07-25T04:24:40.604646Z"
    }
   }
  },
  {
   "cell_type": "code",
   "execution_count": 38,
   "outputs": [],
   "source": [
    "assert df_embeded['embedding_vec'].apply(len).nunique() == 1"
   ],
   "metadata": {
    "collapsed": false,
    "ExecuteTime": {
     "end_time": "2023-07-25T04:24:44.547705Z",
     "start_time": "2023-07-25T04:24:44.534842Z"
    }
   }
  },
  {
   "cell_type": "code",
   "execution_count": 39,
   "outputs": [],
   "source": [
    "matrix = np.vstack(df_embeded['embedding_vec'].values)"
   ],
   "metadata": {
    "collapsed": false,
    "ExecuteTime": {
     "end_time": "2023-07-25T04:24:47.737526Z",
     "start_time": "2023-07-25T04:24:47.731976Z"
    }
   }
  },
  {
   "cell_type": "code",
   "execution_count": null,
   "outputs": [],
   "source": [
    "matrix.shape"
   ],
   "metadata": {
    "collapsed": false
   }
  },
  {
   "cell_type": "code",
   "execution_count": 42,
   "outputs": [],
   "source": [
    "tsne = TSNE(n_components=2, perplexity=2, random_state=42, init='random', learning_rate=200)"
   ],
   "metadata": {
    "collapsed": false,
    "ExecuteTime": {
     "end_time": "2023-07-25T04:25:22.091125Z",
     "start_time": "2023-07-25T04:25:22.078420Z"
    }
   }
  },
  {
   "cell_type": "code",
   "execution_count": 43,
   "outputs": [],
   "source": [
    "vis_dims = tsne.fit_transform(matrix)"
   ],
   "metadata": {
    "collapsed": false,
    "ExecuteTime": {
     "end_time": "2023-07-25T04:25:25.797773Z",
     "start_time": "2023-07-25T04:25:24.211007Z"
    }
   }
  },
  {
   "cell_type": "code",
   "execution_count": 56,
   "outputs": [
    {
     "data": {
      "text/plain": "(5, 2)"
     },
     "execution_count": 56,
     "metadata": {},
     "output_type": "execute_result"
    }
   ],
   "source": [
    "vis_dims.shape"
   ],
   "metadata": {
    "collapsed": false,
    "ExecuteTime": {
     "end_time": "2023-07-25T05:46:40.694100Z",
     "start_time": "2023-07-25T05:46:40.687219Z"
    }
   }
  },
  {
   "cell_type": "code",
   "execution_count": 44,
   "outputs": [],
   "source": [
    "colors = [\"red\", \"darkorange\", \"gold\", \"turquoise\", \"darkgreen\"]\n",
    "# colors = [\"red\", \"orange\", \"green\", \"yellow\", \"blue\"]"
   ],
   "metadata": {
    "collapsed": false,
    "ExecuteTime": {
     "end_time": "2023-07-25T04:25:32.519031Z",
     "start_time": "2023-07-25T04:25:32.497693Z"
    }
   }
  },
  {
   "cell_type": "code",
   "execution_count": 45,
   "outputs": [],
   "source": [
    "# 从降维后的坐标中分别获取所有数据点的横坐标和纵坐标\n",
    "x = [x for x,y in vis_dims]\n",
    "y = [y for x,y in vis_dims]\n",
    "\n",
    "# 根据数据点的评分（减1是因为评分是从1开始的，而颜色索引是从0开始的）获取对应的颜色索引\n",
    "color_indices = df_embeded.Score.values - 1\n",
    "\n",
    "# 确保你的数据点和颜色索引的数量匹配\n",
    "assert len(vis_dims) == len(df_embeded.Score.values)"
   ],
   "metadata": {
    "collapsed": false,
    "ExecuteTime": {
     "end_time": "2023-07-25T04:25:34.492203Z",
     "start_time": "2023-07-25T04:25:34.488318Z"
    }
   }
  },
  {
   "cell_type": "code",
   "execution_count": 46,
   "outputs": [
    {
     "data": {
      "text/plain": "[Text(1, 0, 'red - Score:1'),\n Text(1, 1, 'darkorange - Score:2'),\n Text(1, 2, 'gold - Score:3'),\n Text(1, 3, 'turquoise - Score:4'),\n Text(1, 4, 'darkgreen - Score:5')]"
     },
     "execution_count": 46,
     "metadata": {},
     "output_type": "execute_result"
    },
    {
     "data": {
      "text/plain": "<Figure size 640x480 with 2 Axes>",
      "image/png": "[encoded data removed]"
     },
     "metadata": {},
     "output_type": "display_data"
    }
   ],
   "source": [
    "# 创建一个基于预定义颜色的颜色映射对象\n",
    "colormap = matplotlib.colors.ListedColormap(colors)\n",
    "# 使用 matplotlib 创建散点图，其中颜色由颜色映射对象和颜色索引共同决定，alpha 是点的透明度\n",
    "plt.scatter(x, y, c=color_indices, cmap=colormap, alpha=0.4)\n",
    "\n",
    "# 为图形添加标题\n",
    "plt.title(\"Amazon ratings visualized in language using t-SNE\")\n",
    "\n",
    "# 添加颜色指标对应关系\n",
    "color_labels = [\"red - Score:1\", \"darkorange - Score:2\", \"gold - Score:3\", \"turquoise - Score:4\", \"darkgreen - Score:5\"]\n",
    "plt.colorbar(ticks=range(len(color_labels)), label=\"Color Index\").ax.set_yticklabels(color_labels)"
   ],
   "metadata": {
    "collapsed": false,
    "ExecuteTime": {
     "end_time": "2023-07-25T04:25:39.107956Z",
     "start_time": "2023-07-25T04:25:38.933693Z"
    }
   }
  },
  {
   "cell_type": "code",
   "execution_count": 47,
   "outputs": [
    {
     "ename": "SyntaxError",
     "evalue": "invalid character '，' (U+FF0C) (3948827889.py, line 2)",
     "output_type": "error",
     "traceback": [
      "\u001B[0;36m  Cell \u001B[0;32mIn[47], line 2\u001B[0;36m\u001B[0m\n\u001B[0;31m    4. 使用 K-Means 聚类，然后使用 t-SNE 可视化\u001B[0m\n\u001B[0m                    ^\u001B[0m\n\u001B[0;31mSyntaxError\u001B[0m\u001B[0;31m:\u001B[0m invalid character '，' (U+FF0C)\n"
     ]
    }
   ],
   "source": [
    "# t-SNE降维后，产生了大约3个大类，其中1个大类的评论大多是负面的。即：red - Score:1\n",
    "4. 使用 K-Means 聚类，然后使用 t-SNE 可视化"
   ],
   "metadata": {
    "collapsed": false,
    "ExecuteTime": {
     "end_time": "2023-07-25T04:26:04.429122Z",
     "start_time": "2023-07-25T04:26:04.416609Z"
    }
   }
  },
  {
   "cell_type": "code",
   "execution_count": 48,
   "outputs": [
    {
     "name": "stderr",
     "output_type": "stream",
     "text": [
      "/Users/yangshengqin/my_pyenv/AINote/lib/python3.10/site-packages/sklearn/cluster/_kmeans.py:1412: FutureWarning: The default value of `n_init` will change from 10 to 'auto' in 1.4. Set the value of `n_init` explicitly to suppress the warning\n",
      "  super()._check_params_vs_input(X, default_n_init=10)\n"
     ]
    }
   ],
   "source": [
    "n_clusters = 4\n",
    "kmeans = KMeans(n_clusters = n_clusters, init='k-means++', random_state=42)\n",
    "kmeans.fit(matrix)\n",
    "df_embeded['Cluster'] = kmeans.labels_\n"
   ],
   "metadata": {
    "collapsed": false,
    "ExecuteTime": {
     "end_time": "2023-07-25T04:26:20.940424Z",
     "start_time": "2023-07-25T04:26:20.922176Z"
    }
   }
  },
  {
   "cell_type": "code",
   "execution_count": 49,
   "outputs": [
    {
     "data": {
      "text/plain": "0    2\n1    0\n2    1\n3    3\n4    1\nName: Cluster, dtype: int32"
     },
     "execution_count": 49,
     "metadata": {},
     "output_type": "execute_result"
    }
   ],
   "source": [
    "df_embeded['Cluster']"
   ],
   "metadata": {
    "collapsed": false,
    "ExecuteTime": {
     "end_time": "2023-07-25T04:26:25.258439Z",
     "start_time": "2023-07-25T04:26:25.254223Z"
    }
   }
  },
  {
   "cell_type": "code",
   "execution_count": null,
   "outputs": [],
   "source": [
    "colors = [\"red\", \"green\", \"blue\", \"purple\"]\n",
    "tsne_model = TSNE(n_components=2, random_state=42)\n",
    "vis_data = tsne_model.fit_transform(matrix)\n",
    "# 现在，你可以从降维后的数据中获取 x 和 y 坐标。\n",
    "x = vis_data[:, 0]\n",
    "y = vis_data[:, 1]"
   ],
   "metadata": {
    "collapsed": false
   }
  },
  {
   "cell_type": "code",
   "execution_count": null,
   "outputs": [],
   "source": [
    "vis_data"
   ],
   "metadata": {
    "collapsed": false
   }
  },
  {
   "cell_type": "code",
   "execution_count": null,
   "outputs": [],
   "source": [
    "x"
   ],
   "metadata": {
    "collapsed": false
   }
  },
  {
   "cell_type": "code",
   "execution_count": null,
   "outputs": [],
   "source": [
    "# 'Cluster' 列中的值将被用作颜色索引。\n",
    "color_indices = df_embeded['Cluster'].values\n",
    "\n",
    "# 创建一个基于预定义颜色的颜色映射对象\n",
    "colormap = matplotlib.colors.ListedColormap(colors)\n",
    "\n",
    "# 使用 matplotlib 创建散点图，其中颜色由颜色映射对象和颜色索引共同决定\n",
    "plt.scatter(x, y, c=color_indices, cmap=colormap)\n",
    "\n",
    "# 为图形添加标题\n",
    "plt.title(\"Clustering visualized in 2D using t-SNE\")\n",
    "\n",
    "# 显示图形\n",
    "plt.show()"
   ],
   "metadata": {
    "collapsed": false
   }
  },
  {
   "cell_type": "code",
   "execution_count": null,
   "outputs": [],
   "source": [
    "K-MEANS 聚类可视化效果，4类：一个专注于狗粮，一个专注于负面评论，两个专注于正面评论。"
   ],
   "metadata": {
    "collapsed": false
   }
  },
  {
   "cell_type": "code",
   "execution_count": 52,
   "outputs": [],
   "source": [
    "from openai.embeddings_utils import get_embedding, cosine_similarity"
   ],
   "metadata": {
    "collapsed": false,
    "ExecuteTime": {
     "end_time": "2023-07-25T04:27:26.175106Z",
     "start_time": "2023-07-25T04:27:26.160568Z"
    }
   }
  },
  {
   "cell_type": "code",
   "execution_count": null,
   "outputs": [],
   "source": [
    "type(df_embeded[\"embedding_vec\"][0])\n"
   ],
   "metadata": {
    "collapsed": false
   }
  },
  {
   "cell_type": "code",
   "execution_count": 50,
   "outputs": [],
   "source": [
    "# 定义一个名为 search_reviews 的函数，\n",
    "# Pandas DataFrame 产品描述，数量，以及一个 pprint 标志（默认值为 True）。\n",
    "def search_reviews(df, product_description, n=3, pprint=True):\n",
    "    product_embedding = get_embedding(\n",
    "        product_description,\n",
    "        engine=\"text-embedding-ada-002\"\n",
    "    )\n",
    "    df[\"similarity\"] = df.embedding_vec.apply(lambda x: cosine_similarity(x, product_embedding))\n",
    "\n",
    "    results = (\n",
    "        df.sort_values(\"similarity\", ascending=False)\n",
    "        .head(n)\n",
    "        .combined.str.replace(\"Title: \", \"\")\n",
    "        .str.replace(\"; Content:\", \": \")\n",
    "    )\n",
    "    if pprint:\n",
    "        for r in results:\n",
    "            print(r[:200])\n",
    "            print()\n",
    "    return results"
   ],
   "metadata": {
    "collapsed": false,
    "ExecuteTime": {
     "end_time": "2023-07-25T04:26:48.762294Z",
     "start_time": "2023-07-25T04:26:48.757977Z"
    }
   }
  },
  {
   "cell_type": "code",
   "execution_count": 53,
   "outputs": [
    {
     "name": "stdout",
     "output_type": "stream",
     "text": [
      "Title：The Magic Barcontent：'服务满分，环境中规中矩，音乐真心受不了，清吧你请乐队来唱一晚上，几个人想聊聊天一个字也听不到。乐队休息的时候音乐放得比夜店音乐还大，震得想吐，不会再来......'\n",
      "\n",
      "Title：The Music Bar音乐吧content：“ 打卡位于望京凯悦酒店一楼的 Music bar，环境真的很舒服，相信大多数人都会喜欢这种feel经典格兰杰跟大都会非常好喝，炸小河虾跟盐炯银杏十分美味，下酒够了 推荐:炸小河虾“\n",
      "\n",
      "Title：The Music Bar音乐吧content：酒单上的威士忌酸88~结账到最后，告诉升级版一定要睁眼看看结账单!108! 整个这个强盗啊!\n",
      "\n"
     ]
    }
   ],
   "source": [
    "# 使用 'delicious beans' 作为产品描述和 3 作为数量，\n",
    "# 调用 search_reviews 函数来查找与给定产品描述最相似的前3条评论。\n",
    "# 其结果被存储在 res 变量中。\n",
    "# res = search_reviews(df_embeded, 'delicious beans', n=3)\n",
    "res = search_reviews(df_embeded, '音乐', n=3)"
   ],
   "metadata": {
    "collapsed": false,
    "ExecuteTime": {
     "end_time": "2023-07-25T04:27:30.379258Z",
     "start_time": "2023-07-25T04:27:29.351708Z"
    }
   }
  },
  {
   "cell_type": "code",
   "execution_count": 54,
   "outputs": [
    {
     "data": {
      "text/plain": "'Title：where does one  start...and stop... with a treat like thiscontent：下雨天先到中星城避个雨，正好一层有这家COSTA COFFEE，也就顺便打个卡。就在商场的入口处，开放式的餐区与商场合体，冬天的话暖气不足就感觉还是有点冷，不能脱掉外套。这样就需要来杯热美式咖啡来暖暖身体了。大杯的量很足，喝了半天也没喝完[偷笑]。'"
     },
     "execution_count": 54,
     "metadata": {},
     "output_type": "execute_result"
    }
   ],
   "source": [
    "\n",
    "# 选一条类别3的评论\n",
    "df_embeded['combined'][0]\n"
   ],
   "metadata": {
    "collapsed": false,
    "ExecuteTime": {
     "end_time": "2023-07-25T04:27:50.542037Z",
     "start_time": "2023-07-25T04:27:50.536794Z"
    }
   }
  },
  {
   "cell_type": "code",
   "execution_count": 55,
   "outputs": [
    {
     "name": "stdout",
     "output_type": "stream",
     "text": [
      "Title：where does one  start...and stop... with a treat like thiscontent：下雨天先到中星城避个雨，正好一层有这家COSTA COFFEE，也就顺便打个卡。就在商场的入口处，开放式的餐区与商场合体，冬天的话暖气不足就感觉还是有点冷，不能脱掉外套。这样就需要来杯热美式咖啡来暖暖身体了。大杯的量很足，喝了半天也没喝完[偷笑]。\n",
      "\n"
     ]
    }
   ],
   "source": [
    "res = search_reviews(df_embeded, df_embeded['combined'][0], n=1)"
   ],
   "metadata": {
    "collapsed": false,
    "ExecuteTime": {
     "end_time": "2023-07-25T04:27:55.261824Z",
     "start_time": "2023-07-25T04:27:54.409364Z"
    }
   }
  }
 ],
 "metadata": {
  "kernelspec": {
   "display_name": "Python 3 (ipykernel)",
   "language": "python",
   "name": "python3"
  },
  "language_info": {
   "codemirror_mode": {
    "name": "ipython",
    "version": 3
   },
   "file_extension": ".py",
   "mimetype": "text/x-python",
   "name": "python",
   "nbconvert_exporter": "python",
   "pygments_lexer": "ipython3",
   "version": "3.10.0"
  }
 },
 "nbformat": 4,
 "nbformat_minor": 5
}
