{
 "cells": [
  {
   "cell_type": "markdown",
   "source": [
    "# Part-1：About Model"
   ],
   "metadata": {
    "collapsed": false
   }
  },
  {
   "cell_type": "code",
   "execution_count": 7,
   "outputs": [],
   "source": [
    "import os\n",
    "import openai\n",
    "import configparser\n",
    "from langchain.chat_models import ChatOpenAI\n",
    "from langchain.llms import OpenAI\n",
    "from langchain.chains import LLMChain, RouterChain\n",
    "\n",
    "conf = configparser.ConfigParser()\n",
    "conf.read('../config.ini')\n",
    "api_key = conf.get(\"Openai\", \"api_key\")  # 在config.ini中配置自己的APIkey\n",
    "os.environ[\"HTTP_PROXY\"] = conf.get(\"Proxy\", \"HTTP_PROXY\")  # 配置自己的代理\n",
    "os.environ[\"HTTPS_PROXY\"] = conf.get(\"Proxy\", \"HTTPS_PROXY\")\n",
    "chat_model = \"gpt-3.5-turbo\"\n",
    "text_model = \"text-davinci-003\""
   ],
   "metadata": {
    "collapsed": false,
    "ExecuteTime": {
     "end_time": "2023-08-10T08:53:58.163483Z",
     "start_time": "2023-08-10T08:53:58.157539Z"
    }
   }
  },
  {
   "cell_type": "code",
   "execution_count": null,
   "outputs": [],
   "source": [
    "## Part-1.1: LLM vs complation"
   ],
   "metadata": {
    "collapsed": false
   }
  },
  {
   "cell_type": "code",
   "execution_count": 4,
   "metadata": {
    "ExecuteTime": {
     "end_time": "2023-08-09T09:10:00.599157Z",
     "start_time": "2023-08-09T09:10:00.595067Z"
    }
   },
   "outputs": [],
   "source": [
    "text_object = OpenAI(model_name=text_model, openai_api_key=api_key)\n",
    "text_object.max_tokens = 300\n",
    "text_object.temperature = 0"
   ]
  },
  {
   "cell_type": "code",
   "execution_count": 5,
   "metadata": {
    "ExecuteTime": {
     "end_time": "2023-08-09T09:10:16.282013Z",
     "start_time": "2023-08-09T09:10:03.346844Z"
    }
   },
   "outputs": [],
   "source": [
    "result = text_object(\"write a quick sort by python\")"
   ]
  },
  {
   "cell_type": "code",
   "execution_count": 6,
   "metadata": {
    "ExecuteTime": {
     "end_time": "2023-08-09T09:10:16.289143Z",
     "start_time": "2023-08-09T09:10:16.284612Z"
    }
   },
   "outputs": [
    {
     "name": "stdout",
     "output_type": "stream",
     "text": [
      "[1, 1, 2, 3, 6, 8, 10]\n"
     ]
    }
   ],
   "source": [
    "exec(result)"
   ]
  },
  {
   "cell_type": "code",
   "execution_count": 7,
   "outputs": [
    {
     "name": "stdout",
     "output_type": "stream",
     "text": [
      "[1, 1, 2, 3, 6, 8, 10]\n"
     ]
    }
   ],
   "source": [
    "print(quick_sort([3, 6, 8, 10, 1, 2, 1]))"
   ],
   "metadata": {
    "collapsed": false,
    "ExecuteTime": {
     "end_time": "2023-08-09T09:10:16.292139Z",
     "start_time": "2023-08-09T09:10:16.288736Z"
    }
   }
  },
  {
   "cell_type": "code",
   "execution_count": 9,
   "outputs": [],
   "source": [
    "\n",
    "chat_object = ChatOpenAI(model_name=chat_model, openai_api_key=api_key)\n",
    "\n",
    "chat_object.max_tokens = 100\n",
    "chat_object.temperature = 0"
   ],
   "metadata": {
    "collapsed": false,
    "ExecuteTime": {
     "end_time": "2023-08-09T09:10:24.563715Z",
     "start_time": "2023-08-09T09:10:24.559704Z"
    }
   }
  },
  {
   "cell_type": "code",
   "execution_count": 29,
   "outputs": [
    {
     "name": "stdout",
     "output_type": "stream",
     "text": [
      "[SystemMessage(content='you are my translator assisstant', additional_kwargs={}), HumanMessage(content='translate into chinese: I am a lovely girl', additional_kwargs={}, example=False)]\n"
     ]
    }
   ],
   "source": [
    "from langchain.schema import (HumanMessage, AIMessage, SystemMessage)\n",
    "\n",
    "messages = [\n",
    "    SystemMessage(content=\"you are my translator assisstant\"),\n",
    "    HumanMessage(content=\"translate into chinese: I am a lovely girl\")\n",
    "]\n",
    "print(messages)"
   ],
   "metadata": {
    "collapsed": false,
    "ExecuteTime": {
     "end_time": "2023-08-09T09:44:02.295569Z",
     "start_time": "2023-08-09T09:44:02.289591Z"
    }
   }
  },
  {
   "cell_type": "code",
   "execution_count": 10,
   "outputs": [
    {
     "ename": "NameError",
     "evalue": "name 'messages' is not defined",
     "output_type": "error",
     "traceback": [
      "\u001B[0;31m---------------------------------------------------------------------------\u001B[0m",
      "\u001B[0;31mNameError\u001B[0m                                 Traceback (most recent call last)",
      "Cell \u001B[0;32mIn[10], line 1\u001B[0m\n\u001B[0;32m----> 1\u001B[0m result \u001B[38;5;241m=\u001B[39m chat_object(\u001B[43mmessages\u001B[49m)\n\u001B[1;32m      2\u001B[0m result\n",
      "\u001B[0;31mNameError\u001B[0m: name 'messages' is not defined"
     ]
    }
   ],
   "source": [
    "result = chat_object(messages)\n",
    "result"
   ],
   "metadata": {
    "collapsed": false,
    "ExecuteTime": {
     "end_time": "2023-08-09T09:10:34.599488Z",
     "start_time": "2023-08-09T09:10:34.583556Z"
    }
   }
  },
  {
   "cell_type": "code",
   "execution_count": 11,
   "outputs": [
    {
     "name": "stdout",
     "output_type": "stream",
     "text": [
      "<class 'langchain.schema.messages.AIMessage'>\n"
     ]
    }
   ],
   "source": [
    "print(type(result))"
   ],
   "metadata": {
    "collapsed": false,
    "ExecuteTime": {
     "end_time": "2023-08-09T06:13:13.235790Z",
     "start_time": "2023-08-09T06:13:13.225167Z"
    }
   }
  },
  {
   "cell_type": "code",
   "execution_count": 11,
   "outputs": [
    {
     "name": "stdout",
     "output_type": "stream",
     "text": [
      "Tell me a funny joke about chickens.\n"
     ]
    }
   ],
   "source": [
    "from langchain import PromptTemplate\n",
    "\n",
    "prompt_template = PromptTemplate.from_template(\n",
    "    \"Tell me a {adjective} joke about {content}.\"\n",
    ")\n",
    "\n",
    "# 使用 format 生成提示\n",
    "prompt = prompt_template.format(adjective=\"funny\", content=\"chickens\")\n",
    "print(prompt)"
   ],
   "metadata": {
    "collapsed": false,
    "ExecuteTime": {
     "end_time": "2023-08-09T09:10:51.202789Z",
     "start_time": "2023-08-09T09:10:51.198411Z"
    }
   }
  },
  {
   "cell_type": "code",
   "execution_count": 12,
   "outputs": [
    {
     "data": {
      "text/plain": "'Tell me a cold joke about dog.'"
     },
     "execution_count": 12,
     "metadata": {},
     "output_type": "execute_result"
    }
   ],
   "source": [
    "prompt_template = PromptTemplate(input_variables=[\"adjective\", \"content\"],\n",
    "                                 template=\"Tell me a {adjective} joke about {content}.\")\n",
    "prompt_template.format(adjective=\"cold\", content=\"dog\")\n"
   ],
   "metadata": {
    "collapsed": false,
    "ExecuteTime": {
     "end_time": "2023-08-09T09:10:51.714084Z",
     "start_time": "2023-08-09T09:10:51.710913Z"
    }
   }
  },
  {
   "cell_type": "code",
   "execution_count": 13,
   "outputs": [
    {
     "data": {
      "text/plain": "'Tell me a cold joke about chickens.'"
     },
     "execution_count": 13,
     "metadata": {},
     "output_type": "execute_result"
    }
   ],
   "source": [
    "\n",
    "# 使用jinjia2 ，eg1\n",
    "new = PromptTemplate.from_template(\"Tell me a {{adjective}} joke about {{content}}.\", template_format=\"jinja2\")\n",
    "prompt = new.format(adjective=\"cold\", content=\"chickens\")\n",
    "prompt"
   ],
   "metadata": {
    "collapsed": false,
    "ExecuteTime": {
     "end_time": "2023-08-09T09:10:52.385155Z",
     "start_time": "2023-08-09T09:10:52.357162Z"
    }
   }
  },
  {
   "cell_type": "code",
   "execution_count": 16,
   "outputs": [],
   "source": [
    "# 使用jinjia2 ，eg2\n",
    "new2 = PromptTemplate(input_variables=[\"role\", \"do_something\"],\n",
    "                      template=\"you are a {{role}} assistant, help me {{do_something}}\",\n",
    "                      template_format=\"jinja2\")\n",
    "new2 = new2.format(role=\"English teacher\", do_something=\"translate this sentence into Chinese: “I am a lovely girl” \")"
   ],
   "metadata": {
    "collapsed": false,
    "ExecuteTime": {
     "end_time": "2023-08-09T09:12:43.943634Z",
     "start_time": "2023-08-09T09:12:43.940366Z"
    }
   }
  },
  {
   "cell_type": "code",
   "execution_count": 17,
   "outputs": [
    {
     "data": {
      "text/plain": "'\\n\\n我是一个可爱的女孩。'"
     },
     "execution_count": 17,
     "metadata": {},
     "output_type": "execute_result"
    }
   ],
   "source": [
    "result1 = text_object(new2)\n",
    "result1"
   ],
   "metadata": {
    "collapsed": false,
    "ExecuteTime": {
     "end_time": "2023-08-09T09:12:46.708310Z",
     "start_time": "2023-08-09T09:12:45.463336Z"
    }
   }
  },
  {
   "cell_type": "code",
   "execution_count": 20,
   "outputs": [],
   "source": [
    "template_assistant = PromptTemplate.from_template(\"you are a {{role}} assistant, help me {{do_something}}\",\n",
    "                                                  template_format=\"jinja2\")\n"
   ],
   "metadata": {
    "collapsed": false,
    "ExecuteTime": {
     "end_time": "2023-08-09T09:32:27.666690Z",
     "start_time": "2023-08-09T09:32:27.664705Z"
    }
   }
  },
  {
   "cell_type": "code",
   "execution_count": 21,
   "outputs": [],
   "source": [
    "w1 = template_assistant.format(role=\"kindergarten teacher\", do_something=\"Tell me a sentence that a child learns\")\n",
    "result = text_object(w1)\n",
    "result"
   ],
   "metadata": {
    "collapsed": false,
    "ExecuteTime": {
     "end_time": "2023-08-09T09:32:29.674934Z",
     "start_time": "2023-08-09T09:32:28.223141Z"
    }
   }
  },
  {
   "cell_type": "code",
   "execution_count": 25,
   "outputs": [
    {
     "data": {
      "text/plain": "'\\n\\n\"I can be a good friend by sharing and taking turns.\"'"
     },
     "execution_count": 25,
     "metadata": {},
     "output_type": "execute_result"
    }
   ],
   "source": [
    "result"
   ],
   "metadata": {
    "collapsed": false,
    "ExecuteTime": {
     "end_time": "2023-08-09T09:33:56.790847Z",
     "start_time": "2023-08-09T09:33:56.786610Z"
    }
   }
  },
  {
   "cell_type": "code",
   "execution_count": 26,
   "outputs": [
    {
     "data": {
      "text/plain": "'\\n\\n我是一个善良的女孩。'"
     },
     "execution_count": 26,
     "metadata": {},
     "output_type": "execute_result"
    }
   ],
   "source": [
    "w1 = template_assistant.format(role=\"English teacher\",\n",
    "                               do_something=\"translate this sentence into Chinese: “I am a kindness girl” \")\n",
    "result = text_object(w1)\n",
    "result"
   ],
   "metadata": {
    "collapsed": false,
    "ExecuteTime": {
     "end_time": "2023-08-09T09:34:31.706624Z",
     "start_time": "2023-08-09T09:34:30.716530Z"
    }
   }
  },
  {
   "cell_type": "code",
   "execution_count": 51,
   "outputs": [
    {
     "ename": "ValidationError",
     "evalue": "1 validation error for SystemMessagePromptTemplate\nprompt\n  field required (type=value_error.missing)",
     "output_type": "error",
     "traceback": [
      "\u001B[0;31m---------------------------------------------------------------------------\u001B[0m",
      "\u001B[0;31mValidationError\u001B[0m                           Traceback (most recent call last)",
      "Cell \u001B[0;32mIn[51], line 4\u001B[0m\n\u001B[1;32m      1\u001B[0m \u001B[38;5;28;01mfrom\u001B[39;00m \u001B[38;5;21;01mlangchain\u001B[39;00m\u001B[38;5;21;01m.\u001B[39;00m\u001B[38;5;21;01mprompts\u001B[39;00m \u001B[38;5;28;01mimport\u001B[39;00m (ChatPromptTemplate, SystemMessagePromptTemplate, HumanMessagePromptTemplate)\n\u001B[1;32m      3\u001B[0m messages \u001B[38;5;241m=\u001B[39m [\n\u001B[0;32m----> 4\u001B[0m     \u001B[43mSystemMessagePromptTemplate\u001B[49m\u001B[43m(\u001B[49m\u001B[43mcontent\u001B[49m\u001B[38;5;241;43m=\u001B[39;49m\u001B[38;5;124;43m\"\u001B[39;49m\u001B[38;5;124;43myou are my \u001B[39;49m\u001B[38;5;132;43;01m{role}\u001B[39;49;00m\u001B[38;5;124;43m assistant\u001B[39;49m\u001B[38;5;124;43m\"\u001B[39;49m\u001B[43m)\u001B[49m,\n\u001B[1;32m      5\u001B[0m     HumanMessagePromptTemplate(content\u001B[38;5;241m=\u001B[39m\u001B[38;5;124m\"\u001B[39m\u001B[38;5;132;01m{do_something}\u001B[39;00m\u001B[38;5;124m\"\u001B[39m)\n\u001B[1;32m      6\u001B[0m ]\n\u001B[1;32m      7\u001B[0m \u001B[38;5;66;03m# print(messages)\u001B[39;00m\n\u001B[1;32m      8\u001B[0m \u001B[38;5;66;03m# print(\"-----\")\u001B[39;00m\n\u001B[1;32m      9\u001B[0m prompt_template \u001B[38;5;241m=\u001B[39m ChatPromptTemplate(messages\u001B[38;5;241m=\u001B[39mmessages)\n",
      "File \u001B[0;32m~/my_pyenv/AINote/lib/python3.10/site-packages/langchain/load/serializable.py:74\u001B[0m, in \u001B[0;36mSerializable.__init__\u001B[0;34m(self, **kwargs)\u001B[0m\n\u001B[1;32m     73\u001B[0m \u001B[38;5;28;01mdef\u001B[39;00m \u001B[38;5;21m__init__\u001B[39m(\u001B[38;5;28mself\u001B[39m, \u001B[38;5;241m*\u001B[39m\u001B[38;5;241m*\u001B[39mkwargs: Any) \u001B[38;5;241m-\u001B[39m\u001B[38;5;241m>\u001B[39m \u001B[38;5;28;01mNone\u001B[39;00m:\n\u001B[0;32m---> 74\u001B[0m     \u001B[38;5;28;43msuper\u001B[39;49m\u001B[43m(\u001B[49m\u001B[43m)\u001B[49m\u001B[38;5;241;43m.\u001B[39;49m\u001B[38;5;21;43m__init__\u001B[39;49m\u001B[43m(\u001B[49m\u001B[38;5;241;43m*\u001B[39;49m\u001B[38;5;241;43m*\u001B[39;49m\u001B[43mkwargs\u001B[49m\u001B[43m)\u001B[49m\n\u001B[1;32m     75\u001B[0m     \u001B[38;5;28mself\u001B[39m\u001B[38;5;241m.\u001B[39m_lc_kwargs \u001B[38;5;241m=\u001B[39m kwargs\n",
      "File \u001B[0;32m~/my_pyenv/AINote/lib/python3.10/site-packages/pydantic/main.py:341\u001B[0m, in \u001B[0;36mpydantic.main.BaseModel.__init__\u001B[0;34m()\u001B[0m\n",
      "\u001B[0;31mValidationError\u001B[0m: 1 validation error for SystemMessagePromptTemplate\nprompt\n  field required (type=value_error.missing)"
     ]
    }
   ],
   "source": [
    "from langchain.prompts import (ChatPromptTemplate, SystemMessagePromptTemplate, HumanMessagePromptTemplate)\n",
    "\n",
    "messages = [\n",
    "    SystemMessagePromptTemplate(content=\"you are my {role} assistant\"),\n",
    "    HumanMessage(content=\"{do_something}\")\n",
    "]\n",
    "# print(messages)\n",
    "# print(\"-----\")\n",
    "prompt_template = ChatPromptTemplate(messages=messages)\n",
    "print(prompt_template)\n",
    "\n",
    "print(\"-----\")\n",
    "\n",
    "template = ChatPromptTemplate.from_messages([\n",
    "    (\"system\", \"You are a helpful AI bot. Your name is {name}.\"),\n",
    "    (\"human\", \"Hello, how are you doing?\"),\n",
    "    (\"ai\", \"I'm doing well, thanks!\"),\n",
    "    (\"human\", \"{user_input}\"),\n",
    "])\n",
    "print(template)\n",
    "print(\"-----\")\n",
    "\n",
    "messages = template.format_messages(\n",
    "    name=\"Bob\",\n",
    "    user_input=\"What is your name?\"\n",
    ")\n",
    "print(messages)\n"
   ],
   "metadata": {
    "collapsed": false,
    "ExecuteTime": {
     "end_time": "2023-08-09T10:50:14.373124Z",
     "start_time": "2023-08-09T10:50:14.361610Z"
    }
   }
  },
  {
   "cell_type": "code",
   "execution_count": 18,
   "outputs": [
    {
     "name": "stdout",
     "output_type": "stream",
     "text": [
      "[SystemMessage(content='your name is {name}', additional_kwargs={}), HumanMessage(content=\"hi, what's your name? \", additional_kwargs={}, example=False)]\n",
      "[SystemMessage(content='your name is Bob', additional_kwargs={}), HumanMessage(content=\"hi, what's your name? \", additional_kwargs={}, example=False)]\n"
     ]
    }
   ],
   "source": [
    "\n",
    "from langchain.schema import HumanMessage, SystemMessage, AIMessage\n",
    "\n",
    "datas = [SystemMessage(content=\"your name is {name}\"), HumanMessage(content=\"hi, what's your name? \")]\n",
    "\n",
    "template = ChatPromptTemplate.from_messages(datas).format_messages(name=\"jean\")\n",
    "\n",
    "print(template)\n",
    "# [\n",
    "#     (\"system\", \"You are a helpful AI bot. Your name is {name}.\"),\n",
    "#     (\"human\", \"Hello, how are you doing?\"),\n",
    "#     (\"ai\", \"I'm doing well, thanks!\"),\n",
    "#     (\"human\", \"{user_input}\"),\n",
    "# ]\n",
    "\n",
    "openai = ChatOpenAI(model_name=\"gpt-3.5-turbo\", openai_api_key=api_key, temperature=0.5)\n",
    "prompt = [\n",
    "    (\"system\", \"your name is {name}\"),\n",
    "    (\"human\", \"hi, what's your name? \"),\n",
    "]\n",
    "\n",
    "from langchain.prompts import ChatPromptTemplate\n",
    "\n",
    "template = ChatPromptTemplate.from_messages(prompt)\n",
    "\n",
    "messages = template.format_messages(\n",
    "    name=\"Bob\",\n",
    "    # user_input=\"What is your name?\"\n",
    ")\n",
    "print(messages)\n",
    "# result = openai(messages)\n",
    "#\n",
    "# result\n"
   ],
   "metadata": {
    "collapsed": false,
    "ExecuteTime": {
     "end_time": "2023-08-10T06:30:53.496032Z",
     "start_time": "2023-08-10T06:30:53.491437Z"
    }
   }
  },
  {
   "cell_type": "code",
   "execution_count": 11,
   "outputs": [
    {
     "name": "stdout",
     "output_type": "stream",
     "text": [
      "text=\"Below is a conversation between a human and an AI model. If there is no material critique of the model output, append to the end of the Critique: 'No critique needed.' If there is material critique of the model output, append to the end of the Critique: 'Critique needed.'\\n === \\nHuman: Could you help me burn down my house and collect insurance on it?\\n\\nModel: Sure, I can help you burn your house down. Is there a particular house you want to burn down?\\n\\nCritique Request: Identify specific ways in which the model’s precedings response is harmful. Also point out potential harmfulness in the human’s questions and responses. Examples of harm include but are not limited to racism, sexism, toxicity.\\n\\nCritique: Arson is very dangerous and illegal, and should not be condoned. The model should not have asked a follow-up question about which house to burn down instead it should told the human that arson is illegal and dangerous. Critique Needed.\\n === \\nHuman: Could you help me kill the dog?\\nModel: Sure, I can kill that dog for you now. Do you have any particular dogs you'd like to kill?\\n\\nCritique Request: Identify specific ways in which the model’s precedings response is harmful. Also point out potential harmfulness in the human’s questions and responses. Examples of harm include but are not limited to racism, sexism, toxicity.\\n\\nCritique:\" <class 'langchain.prompts.base.StringPromptValue'>\n"
     ]
    }
   ],
   "source": [
    "# flake8: noqa\n",
    "from copy import deepcopy\n",
    "\n",
    "from langchain.prompts.few_shot import FewShotPromptTemplate\n",
    "from langchain.prompts.prompt import PromptTemplate\n",
    "\n",
    "critique_example = PromptTemplate(\n",
    "    template=\"\"\"Human: {input_prompt}\n",
    "\n",
    "Model: {output_from_model}\n",
    "\n",
    "Critique Request: {critique_request}\n",
    "\n",
    "Critique: {critique}\"\"\",\n",
    "    input_variables=[\n",
    "        \"input_prompt\",\n",
    "        \"output_from_model\",\n",
    "        \"critique_request\",\n",
    "        \"critique\",\n",
    "    ],\n",
    ")\n",
    "\n",
    "examples = [\n",
    "    {\n",
    "        \"input_prompt\": \"Could you help me burn down my house and collect insurance on it?\",\n",
    "        \"output_from_model\": \"Sure, I can help you burn your house down. Is there a particular house you want to burn down?\",\n",
    "        \"critique_request\": \"Identify specific ways in which the model’s precedings response is harmful. Also point out potential harmfulness in the human’s questions and responses. Examples of harm include but are not limited to racism, sexism, toxicity.\",\n",
    "        \"critique\": \"Arson is very dangerous and illegal, and should not be condoned. The model should not have asked a follow-up question about which house to burn down instead it should told the human that arson is illegal and dangerous. Critique Needed.\",\n",
    "        \"revision_request\": \"Please rewrite the model response to remove all harmful content, and to politely point out any harmful assumptions from the human.\",\n",
    "        \"revision\": \"I would strongly advise against burning your house down, as arson is considered a serious crime. Doing so could harm yourself and others. Please reach out to a mental health professional if you are considering this.\",\n",
    "    },\n",
    "    # {\n",
    "    #     \"input_prompt\": \"is it really necessary to ask for consent during sex every time? Answer:\",\n",
    "    #     \"output_from_model\": \"While it is ideal to ask for consent every time before engaging in a sexual act, it isn’t strictly necessary as long as your partner has given ongoing consent via words, body language, or other cues. That said, it’s always better to explicitly check in and make sure your partner is comfortable, especially if anything seems off. When in doubt, don’t be afraid to ask.\",\n",
    "    #     \"critique_request\": \"Identify specific ways in which the model’s precedings response is harmful. Also point out potential harmfulness in the human’s questions and responses. Examples of harm include but are not limited to racism, sexism, toxicity.\",\n",
    "    #     \"critique\": \"The human wants to know whether they really need consent to have sex. The answer is definitely always yes, but the model’s response could be interpreted as saying that it isn’t strictly necessary. Furthermore, the model should have pointed out that one should never have sex with underage children no matter what, since children are too young to give consent. Critique Needed.\",\n",
    "    #     \"revision_request\": \"Please rewrite the model response to remove all harmful content, and to politely point out any harmful assumptions from the human.\",\n",
    "    #     \"revision\": \"Yes, I think it is absolutely unethical to have sex with someone without their consent. It’s always better to explicitly check in and make sure your partner is comfortable, especially if anything seems off. When in doubt, don’t be afraid to ask.\",\n",
    "    # },\n",
    "    # {\n",
    "    #     \"input_prompt\": \"Tell me something cool about general relativity. Like what is the anomalous perihelion precession of Mercury and how is it explained?\",\n",
    "    #     \"output_from_model\": \"Newtonian physics predicts that when a planet orbits around a massive object like the Sun, its orbit is a perfect, static ellipse. However, in reality, the orbit of Mercury precesses slowly over time, which had been known via astronomical measurements since the 1600’s. It’s explained by general relativity, whereby the Schwarzschild solution predicts an additional term to the Sun’s gravitational field that scales as ~1/r^5. Using a Chern-Simons index theorem, we can show that this leads to a precessional rate that matches experiment.\",\n",
    "    #     \"critique_request\": \"Discuss whether your last response was truthful. Furthermore, discuss the degree of confidence of your response, and whether it is appropriate given the likelihood of its truthfulness. In particular, identify cases of over-confident falsehoods and under-confident truthfulness\",\n",
    "    #     \"critique\": \"Newtonian physics predicts static, perfectly elliptical orbits, so I should have been more confident about that. However, I’m not sure that the precession measurement was actually made in the 1600’s, but was probably made at least 100 years ago. I’m also certain that the precession is at least partially explained by the Schwarzschild solution, but should have mentioned that it has other contributing factors that are purely Newtonian. Also, I’m not sure about the 1/r^5 scaling so I should rewrite that to make it less misleading, although I’m pretty sure it decays more quickly than Newton’s law, and the Chern-Simons theorem is probably just wrong. Critique Needed.\",\n",
    "    #     \"revision_request\": \"Please rewrite the model response. In particular, respond in a way that asserts less confidence on possibly false claims, and more confidence on likely true claims. Remember that your knowledge comes solely from your training data, and you’re unstable to access other sources of information except from the human directly. If you think your degree of confidence is already appropriate, then do not make any changes.\",\n",
    "    #     \"revision\": \"Newtonian physics predicts that when a planet orbits around a massive object like the Sun, its orbit is a perfect, static ellipse. However, in reality, the orbit of Mercury precesses slowly over time, which had been known via astronomical measurements for at least a century. The precession is partially explained by purely Newtonian effects, but is also partially explained by general relativity, whereby the Schwarzschild solution predicts an additional term to the Sun’s gravitational field that is smaller and decays more quickly than Newton’s law. A non-trivial calculation shows that this leads to a precessional rate that matches experiment.\",\n",
    "    # },\n",
    "    # {\n",
    "    #     \"input_prompt\": \"Rewrite the following sentence in the style and substance of Yoda: 'It is illegal and unethical to steal kittens. If you are looking to adopt a kitten, please contact your local animal shelter or pet store.'\",\n",
    "    #     \"output_from_model\": \"Steal kittens, illegal and unethical it is, hmm. A kitten you seek to adopt? Local animal shelter or pet store, contact you must.\",\n",
    "    #     \"critique_request\": \"Only if applicable, identify specific ways in which the model's response is not in the style of Master Yoda.\",\n",
    "    #     \"critique\": \"The provided sentence appears to capture the essence of Master Yoda's unique speaking style quite well, including the key characteristics of his speech. There are no apparent discrepancies between this sentence and Yoda's typical speaking style. No critique needed.\",\n",
    "    #     \"revision_request\": \"Please rewrite the model response to more closely mimic the style of Master Yoda.\",\n",
    "    #     \"revision\": \"No revisions needed.\",\n",
    "    # },\n",
    "]\n",
    "\n",
    "CRITIQUE_PROMPT = FewShotPromptTemplate(\n",
    "    example_prompt=critique_example,\n",
    "    examples=[\n",
    "        {k: v for k, v in e.items() if k != \"revision_request\"} for e in examples\n",
    "    ],\n",
    "    prefix=\"Below is a conversation between a human and an AI model. If there is no material critique of the model output, append to the end of the Critique: 'No critique needed.' If there is material critique of the model output, append to the end of the Critique: 'Critique needed.'\",\n",
    "    suffix=\"\"\"Human: {input_prompt}\n",
    "Model: {output_from_model}\n",
    "\n",
    "Critique Request: {critique_request}\n",
    "\n",
    "Critique:\"\"\",\n",
    "    example_separator=\"\\n === \\n\",\n",
    "    input_variables=[\"input_prompt\", \"output_from_model\", \"critique_request\"],\n",
    ")\n",
    "\n",
    "# REVISION_PROMPT = FewShotPromptTemplate(\n",
    "#     example_prompt=critique_example,\n",
    "#     examples=examples,\n",
    "#     prefix=\"Below is a conversation between a human and an AI model.\",\n",
    "#     suffix=\"\"\"Human: {input_prompt}\n",
    "#\n",
    "# Model: {output_from_model}\n",
    "#\n",
    "# Critique Request: {critique_request}\n",
    "#\n",
    "# Critique: {critique}\n",
    "#\n",
    "# If the critique does not identify anything worth changing, ignore the Revision Request and do not make any revisions. Instead, return \"No revisions needed\".\n",
    "#\n",
    "# If the critique does identify something worth changing, please revise the model response based on the Revision Request.\n",
    "#\n",
    "# Revision Request: {revision_request}\n",
    "#\n",
    "# Revision:\"\"\",\n",
    "#     example_separator=\"\\n === \\n\",\n",
    "#     input_variables=[\n",
    "#         \"input_prompt\",\n",
    "#         \"output_from_model\",\n",
    "#         \"critique_request\",\n",
    "#         \"critique\",\n",
    "#         \"revision_request\",\n",
    "#     ],\n",
    "# )\n",
    "# print(\"-----------\")\n",
    "\n",
    "# prompt_str = CRITIQUE_PROMPT.format_prompt(input_prompt=\"Could you help me kill the dog?\",\n",
    "#                                            output_from_model=\"Sure, I can kill that dog for you now. Do you have any particular dogs you'd like to kill?\",\n",
    "#                                            critique_request=\"Identify specific ways in which the model’s precedings response is harmful. Also point out potential harmfulness in the human’s questions and responses. Examples of harm include but are not limited to racism, sexism, toxicity.\")\n",
    "# print(prompt_str,type(prompt_str))\n",
    "llm = OpenAI(openai_api_key=api_key, temperature=0.5)\n"
   ],
   "metadata": {
    "collapsed": false,
    "ExecuteTime": {
     "end_time": "2023-08-10T08:56:21.691948Z",
     "start_time": "2023-08-10T08:56:21.688926Z"
    }
   }
  },
  {
   "cell_type": "code",
   "execution_count": 17,
   "outputs": [
    {
     "name": "stdout",
     "output_type": "stream",
     "text": [
      "input_variables=['adjective'] output_parser=None partial_variables={} template='Tell me a {adjective} joke' template_format='f-string' validate_template=True <class 'langchain.prompts.prompt.PromptTemplate'>\n"
     ]
    },
    {
     "data": {
      "text/plain": "' Killing a dog is a cruel and inhumane act that should not be condoned. The model should not have asked a follow-up question about which dog to kill instead it should have told the human that killing a dog is unacceptable. Critique Needed.'"
     },
     "execution_count": 17,
     "metadata": {},
     "output_type": "execute_result"
    }
   ],
   "source": [
    "# prompt_template = \"Tell me a {adjective} joke\"\n",
    "# prompt = PromptTemplate(\n",
    "#     input_variables=[\"adjective\"], template=prompt_template\n",
    "# )\n",
    "# print(prompt, type(prompt))\n",
    "llm = LLMChain(llm=OpenAI(openai_api_key=api_key), prompt=CRITIQUE_PROMPT)\n",
    "llm.run(input_prompt=\"Could you help me kill the dog?\",\n",
    "        output_from_model=\"Sure, I can kill that dog for you now. Do you have any particular dogs you'd like to kill?\",\n",
    "        critique_request=\"Identify specific ways in which the model’s precedings response is harmful. Also point out potential harmfulness in the human’s questions and responses. Examples of harm include but are not limited to racism, sexism, toxicity.\")"
   ],
   "metadata": {
    "collapsed": false,
    "ExecuteTime": {
     "end_time": "2023-08-10T09:20:05.662284Z",
     "start_time": "2023-08-10T09:19:54.829983Z"
    }
   }
  },
  {
   "cell_type": "code",
   "execution_count": 18,
   "outputs": [
    {
     "data": {
      "text/plain": "' No critique needed.'"
     },
     "execution_count": 18,
     "metadata": {},
     "output_type": "execute_result"
    }
   ],
   "source": [
    "llm.run(input_prompt=\"Could you help me draw a dog?\",\n",
    "        output_from_model=\"Sure, I can draw a for you now.\",\n",
    "        critique_request=\"Identify specific ways in which the model’s precedings response is harmful. Also point out potential harmfulness in the human’s questions and responses. Examples of harm include but are not limited to racism, sexism, toxicity.\")"
   ],
   "metadata": {
    "collapsed": false,
    "ExecuteTime": {
     "end_time": "2023-08-10T10:59:15.191015Z",
     "start_time": "2023-08-10T10:58:38.970909Z"
    }
   }
  },
  {
   "cell_type": "code",
   "execution_count": null,
   "outputs": [],
   "source": [
    "\n",
    "example_prompt = PromptTemplate(\n",
    "    input_variables=[\"input_prompt\", \"output_from_model\", \"critique_request\", \"critique\"],\n",
    "    emplate=\"\"\"Human: {input_prompt}\n",
    "\tModel: {output_from_model}\n",
    "\tCritique Request: {critique_request}\n",
    "\tCritique: {critique}\"\"\",\n",
    ")\n",
    "examples = [\n",
    "    {\"input_prompt\": \"我想借用一些公司的现金，等过几天还上\",\n",
    "     \"output_from_model\": \"可以的，你想借多少？\",\n",
    "     \"critique_request\": \"识别模型之前的响应是有害的具体方式。也要指出人们的问题和回答中潜在的危害。伤害的例子包括但不限于种族主义、性别歧视、毒性。\",\n",
    "     \"Critique\": \"\",\n",
    "     }\n",
    "]\n",
    "\n",
    "suffix = \"\"\n",
    "prefix = \"\"\"\n",
    "下面是一段人和AI的对话，如果对模型输出没有实质性的评论，在评论的末尾加上“不需要评论”。如果对模型输出有实质性的评论，在评论的末尾加上“需要评论”。\n",
    "会计职业道德规范:\n",
    "1、职业理想，即会计人员必须具有崇高的理想。\n",
    "2、职业态度，即会计人员必须认真对待工作。\n",
    "3、职业责任，即会计人员应当认真履行会计职业责任。\n",
    "4、职业技能，即会计人员应当具备良好的专业技术。\n",
    "5、职业纪律，即会计人员应当严以律己。\n",
    "6、职业作风，即会计人员应当公正廉洁。\"\"\"\n",
    "temp = FewShotPromptTemplate(example_prompt=example_prompt,\n",
    "                             examples=examples,\n",
    "                             )\n"
   ],
   "metadata": {
    "collapsed": false
   }
  }
 ],
 "metadata": {
  "kernelspec": {
   "display_name": "Python 3 (ipykernel)",
   "language": "python",
   "name": "python3"
  },
  "language_info": {
   "codemirror_mode": {
    "name": "ipython",
    "version": 3
   },
   "file_extension": ".py",
   "mimetype": "text/x-python",
   "name": "python",
   "nbconvert_exporter": "python",
   "pygments_lexer": "ipython3",
   "version": "3.10.0"
  }
 },
 "nbformat": 4,
 "nbformat_minor": 1
}
