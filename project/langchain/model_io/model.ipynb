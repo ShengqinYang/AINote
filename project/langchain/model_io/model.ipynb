{
 "cells": [
  {
   "cell_type": "markdown",
   "source": [
    "## Part-1：Models\n",
    "* 包括LLM and ChatModel"
   ],
   "metadata": {
    "collapsed": false
   }
  },
  {
   "cell_type": "code",
   "execution_count": 2,
   "outputs": [],
   "source": [
    "import os\n",
    "import openai\n",
    "import configparser\n",
    "from langchain.chat_models import ChatOpenAI\n",
    "from langchain.schema import HumanMessage, SystemMessage, AIMessage\n",
    "from langchain.llms import OpenAI\n",
    "\n",
    "conf = configparser.ConfigParser()\n",
    "current_directory = os.path.dirname(os.path.realpath('__file__'))\n",
    "config_file_path = os.path.join(current_directory, '..', '..', '..','config.ini')\n",
    "conf.read(config_file_path)\n",
    "api_key = conf.get(\"Openai\", \"api_key\")  # 在config.ini中配置自己的APIkey\n",
    "os.environ[\"HTTP_PROXY\"] = conf.get(\"Proxy\", \"HTTP_PROXY\")  # 配置自己的代理\n",
    "os.environ[\"HTTPS_PROXY\"] = conf.get(\"Proxy\", \"HTTPS_PROXY\")\n",
    "chat_model = \"gpt-3.5-turbo\"\n",
    "text_model = \"text-davinci-003\""
   ],
   "metadata": {
    "collapsed": false,
    "ExecuteTime": {
     "end_time": "2023-08-17T03:40:42.156112Z",
     "start_time": "2023-08-17T03:40:42.144407Z"
    }
   }
  },
  {
   "cell_type": "code",
   "execution_count": 3,
   "outputs": [
    {
     "name": "stdout",
     "output_type": "stream",
     "text": [
      "[1, 1, 2, 3, 6, 8, 10]\n",
      "[1, 1, 2, 3, 6, 8, 10]\n"
     ]
    }
   ],
   "source": [
    "\n",
    "# LLM\n",
    "text_object = OpenAI(model_name=text_model, openai_api_key=api_key)\n",
    "text_object.max_tokens = 300\n",
    "text_object.temperature = 0\n",
    "result = text_object(\"write a quick sort by python\")\n",
    "exec(result)\n",
    "print(quick_sort([3, 6, 8, 10, 1, 2, 1]))"
   ],
   "metadata": {
    "collapsed": false,
    "ExecuteTime": {
     "end_time": "2023-08-17T03:40:51.952176Z",
     "start_time": "2023-08-17T03:40:46.588096Z"
    }
   }
  },
  {
   "cell_type": "markdown",
   "source": [
    "### Part-1.2：ChatModel"
   ],
   "metadata": {
    "collapsed": false
   }
  },
  {
   "cell_type": "code",
   "execution_count": null,
   "outputs": [],
   "source": [
    "# ChatModel\n",
    "chat_object = ChatOpenAI(model_name=chat_model, openai_api_key=api_key)\n",
    "\n",
    "chat_object.max_tokens = 100\n",
    "chat_object.temperature = 0\n",
    "\n",
    "messages = [\n",
    "    SystemMessage(content=\"you are my translator assisstant\"),\n",
    "    HumanMessage(content=\"translate into chinese: I am a lovely girl\")\n",
    "]\n",
    "print(messages)\n",
    "result = chat_object(messages)\n",
    "result\n",
    "print(type(result))"
   ],
   "metadata": {
    "collapsed": false
   }
  }
 ],
 "metadata": {
  "kernelspec": {
   "display_name": "Python 3",
   "language": "python",
   "name": "python3"
  },
  "language_info": {
   "codemirror_mode": {
    "name": "ipython",
    "version": 2
   },
   "file_extension": ".py",
   "mimetype": "text/x-python",
   "name": "python",
   "nbconvert_exporter": "python",
   "pygments_lexer": "ipython2",
   "version": "2.7.6"
  }
 },
 "nbformat": 4,
 "nbformat_minor": 0
}
