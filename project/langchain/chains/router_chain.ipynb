{
 "cells": [
  {
   "cell_type": "markdown",
   "source": [
    "## Part-4.4：Chain -> LLMRouterChain、MultiPromptChain：实现条件判断的大模型调用"
   ],
   "metadata": {
    "collapsed": false
   }
  },
  {
   "cell_type": "code",
   "execution_count": null,
   "outputs": [],
   "source": [
    "import os\n",
    "import openai\n",
    "import configparser\n",
    "from langchain.chat_models import ChatOpenAI\n",
    "from langchain.schema import HumanMessage, SystemMessage, AIMessage\n",
    "from langchain.llms import OpenAI\n",
    "from langchain import PromptTemplate\n",
    "from langchain.output_parsers import CommaSeparatedListOutputParser\n",
    "from langchain.output_parsers import DatetimeOutputParser\n",
    "from langchain import LLMChain\n",
    "from langchain.chains import SequentialChain\n",
    "from langchain.chains import SimpleSequentialChain\n",
    "\n",
    "\n",
    "conf = configparser.ConfigParser()\n",
    "current_directory = os.path.dirname(os.path.realpath('__file__'))\n",
    "config_file_path = os.path.join(current_directory, '..', '..', '..', 'config.ini')\n",
    "conf.read(config_file_path)\n",
    "api_key = conf.get(\"Openai\", \"api_key\")  # 在config.ini中配置自己的APIkey\n",
    "os.environ[\"HTTP_PROXY\"] = conf.get(\"Proxy\", \"HTTP_PROXY\")  # 配置自己的代理\n",
    "os.environ[\"HTTPS_PROXY\"] = conf.get(\"Proxy\", \"HTTPS_PROXY\")\n",
    "chat_model = \"gpt-3.5-turbo\"\n",
    "text_model = \"text-davinci-003\""
   ],
   "metadata": {
    "collapsed": false
   }
  },
  {
   "cell_type": "code",
   "execution_count": null,
   "outputs": [],
   "source": [
    "llm = OpenAI(openai_api_key=api_key)"
   ],
   "metadata": {
    "collapsed": false
   }
  },
  {
   "cell_type": "code",
   "execution_count": null,
   "outputs": [],
   "source": [
    "from langchain import ConversationChain\n",
    "from langchain.chains.router.multi_prompt_prompt import MULTI_PROMPT_ROUTER_TEMPLATE\n",
    "\n",
    "templates = [\n",
    "    {\n",
    "        \"name\": \"游戏设计师（Game Designer）\",\n",
    "        \"description\": \"适合回答设计游戏的玩法、关卡、角色和系统，确保游戏的乐趣和挑战性。\",\n",
    "        \"template\": \"你是游戏设计师，你需要根据下面的主题：{input}，给出10个关键词描述。\"\n",
    "    }, {\n",
    "        \"name\": \"角色设计师（Character Designer）\",\n",
    "        \"description\": \"适合回答创造游戏中的各种角色，包括主角、配角、敌人、NPC（非玩家角色）等\",\n",
    "        \"template\": \"你是角色设计师，你需要根据下面的主题：{input}，给出10个关键词描述。\"\n",
    "    }, {\n",
    "        \"name\": \"关卡设计师（Level Designer）\",\n",
    "        \"description\": \"适合回答设计游戏中的各个关卡、场景和环境\",\n",
    "        \"template\": \"你是关卡设计师，你需要根据下面的主题：{input}，给出10个关键词描述。\"\n",
    "    }, {\n",
    "        \"name\": \"美术设计师（Art Designer）\",\n",
    "        \"description\": \"适合回答游戏的视觉风格、角色造型、场景设计等美术方面的工作。\",\n",
    "        \"template\": \"你是美术设计师，你需要根据下面的主题：{input}，给出10个关键词描述。\"\n",
    "    }\n",
    "]\n",
    "\n",
    "destination_chains = {}\n",
    "for tem in templates:\n",
    "    name = tem['name']\n",
    "    description = tem[\"description\"]\n",
    "    template = tem[\"template\"]\n",
    "    prompt = PromptTemplate(template=template, input_variables=[\"input\"])\n",
    "    chain = LLMChain(llm=llm, prompt=prompt, verbose=True)\n",
    "    destination_chains[name] = chain\n",
    "\n",
    "default_chain = ConversationChain(llm=llm, output_key=\"text\")"
   ],
   "metadata": {
    "collapsed": false
   }
  },
  {
   "cell_type": "code",
   "execution_count": null,
   "outputs": [],
   "source": [
    "from langchain.chains.router.llm_router import RouterOutputParser, LLMRouterChain\n",
    "\n",
    "destinations = [f\"{p['name']}: {p['description']}\" for p in templates]\n",
    "destinations_str = \"\\n\".join(destinations)\n",
    "router_template = MULTI_PROMPT_ROUTER_TEMPLATE.format(destinations=destinations_str)\n",
    "print(router_template)\n",
    "\n",
    "router_prompt = PromptTemplate(\n",
    "    template=router_template,\n",
    "    input_variables=[\"input\"],\n",
    "    output_parser=RouterOutputParser()\n",
    "\n",
    ")\n",
    "\n",
    "router_chain = LLMRouterChain.from_llm(llm=llm, prompt=router_prompt, verbose=True)"
   ],
   "metadata": {
    "collapsed": false
   }
  },
  {
   "cell_type": "code",
   "execution_count": null,
   "outputs": [],
   "source": [
    "from langchain.chains import MultiPromptChain\n",
    "\n",
    "mult_chain = MultiPromptChain(\n",
    "    router_chain=router_chain,\n",
    "    default_chain=default_chain,\n",
    "    destination_chains=destination_chains,\n",
    "    verbose=True\n",
    ")"
   ],
   "metadata": {
    "collapsed": false
   }
  },
  {
   "cell_type": "code",
   "execution_count": null,
   "outputs": [],
   "source": [
    "print(mult_chain.run({\"input\": \"设计一个6岁的ncp小男孩的特征\"}))"
   ],
   "metadata": {
    "collapsed": false
   }
  },
  {
   "cell_type": "code",
   "execution_count": null,
   "outputs": [],
   "source": [
    "result = mult_chain.run({'input': '设计一个宇宙空间站的游戏场景'})\n"
   ],
   "metadata": {
    "collapsed": false
   }
  },
  {
   "cell_type": "code",
   "execution_count": null,
   "outputs": [],
   "source": [],
   "metadata": {
    "collapsed": false
   }
  }
 ],
 "metadata": {
  "kernelspec": {
   "display_name": "Python 3",
   "language": "python",
   "name": "python3"
  },
  "language_info": {
   "codemirror_mode": {
    "name": "ipython",
    "version": 2
   },
   "file_extension": ".py",
   "mimetype": "text/x-python",
   "name": "python",
   "nbconvert_exporter": "python",
   "pygments_lexer": "ipython2",
   "version": "2.7.6"
  }
 },
 "nbformat": 4,
 "nbformat_minor": 0
}
