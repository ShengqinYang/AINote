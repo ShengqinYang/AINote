{
 "cells": [
  {
   "cell_type": "markdown",
   "source": [
    "## Part-4：Chain\n",
    "### Part-4.1：Chain -> LLMChain\n",
    "**LLMChain最简单的链，作为其他复杂 Chains 和 Agents 的内部调用，被广泛应用**"
   ],
   "metadata": {
    "collapsed": false
   }
  },
  {
   "cell_type": "code",
   "execution_count": null,
   "outputs": [],
   "source": [
    "import os\n",
    "import openai\n",
    "import configparser\n",
    "from langchain.chat_models import ChatOpenAI\n",
    "from langchain.schema import HumanMessage, SystemMessage, AIMessage\n",
    "from langchain.llms import OpenAI\n",
    "from langchain import PromptTemplate\n",
    "from langchain.output_parsers import CommaSeparatedListOutputParser\n",
    "from langchain.output_parsers import DatetimeOutputParser\n",
    "from langchain import LLMChain\n",
    "from langchain.chains import SequentialChain\n",
    "from langchain.chains import SimpleSequentialChain\n",
    "\n",
    "\n",
    "conf = configparser.ConfigParser()\n",
    "current_directory = os.path.dirname(os.path.realpath('__file__'))\n",
    "config_file_path = os.path.join(current_directory, '..', '..', '..', 'config.ini')\n",
    "conf.read(config_file_path)\n",
    "api_key = conf.get(\"Openai\", \"api_key\")  # 在config.ini中配置自己的APIkey\n",
    "os.environ[\"HTTP_PROXY\"] = conf.get(\"Proxy\", \"HTTP_PROXY\")  # 配置自己的代理\n",
    "os.environ[\"HTTPS_PROXY\"] = conf.get(\"Proxy\", \"HTTPS_PROXY\")\n",
    "chat_model = \"gpt-3.5-turbo\"\n",
    "text_model = \"text-davinci-003\""
   ],
   "metadata": {
    "collapsed": false
   }
  },
  {
   "cell_type": "code",
   "execution_count": null,
   "outputs": [],
   "source": [
    "\n",
    "llm = OpenAI(temperature=0.9, max_tokens=500, openai_api_key=api_key)\n",
    "\n",
    "prompt_template = \"Tell me a {adjective} joke\"\n",
    "prompt = PromptTemplate(\n",
    "    input_variables=[\"adjective\"],\n",
    "    template=prompt_template\n",
    ")\n",
    "chain = LLMChain(llm=llm, prompt=prompt)"
   ],
   "metadata": {
    "collapsed": false
   }
  },
  {
   "cell_type": "code",
   "execution_count": null,
   "outputs": [],
   "source": [
    "# print(chain.run({\n",
    "#     'adjective': \"dogs jokes\"\n",
    "# }))"
   ],
   "metadata": {
    "collapsed": false
   }
  },
  {
   "cell_type": "markdown",
   "source": [
    "### Part-4.2：Chain -> SimpleSequentialChain\n",
    "**这是一个SimpleSequentialChain，按顺序运行这两个链，简单形式，单一输入/输出，并且一个步骤的输出是下一个步骤的输入。**"
   ],
   "metadata": {
    "collapsed": false
   }
  },
  {
   "cell_type": "code",
   "execution_count": null,
   "outputs": [],
   "source": [
    "\n",
    "output_parser = CommaSeparatedListOutputParser()\n",
    "\n",
    "prompt_1 = PromptTemplate(template=\"你是一个游戏原画设计师，根据关键词生成描述信息，关键词：{keywords}\",\n",
    "                          input_variables=[\"keywords\"])\n",
    "\n",
    "prompt_2 = PromptTemplate(template=\"根据的文本内容，生成原画关键词列表。\\n文本内容：{text_content} \\n{output_prompt}\",\n",
    "                          input_variables=[\"text_content\"],\n",
    "                          partial_variables={\"output_prompt\": output_parser.get_format_instructions()})\n",
    "\n",
    "chain1 = LLMChain(llm=llm, prompt=prompt_1)\n",
    "chain2 = LLMChain(llm=llm, prompt=prompt_2)\n",
    "simple_chain = SimpleSequentialChain(chains=[chain1, chain2], verbose=True)"
   ],
   "metadata": {
    "collapsed": false
   }
  },
  {
   "cell_type": "code",
   "execution_count": null,
   "outputs": [],
   "source": [
    "result_art_designer = simple_chain.run(\"慈祥的白发苍苍的老奶奶\")\n",
    "output_parser.parse(result_art_designer)"
   ],
   "metadata": {
    "collapsed": false
   }
  },
  {
   "cell_type": "markdown",
   "source": [
    "### Part-4.3：Chain -> SequentialChain\n",
    "**SequentialChain 更通用形式的顺序链，允许多个输入/输出。**\n",
    "#### 使用 OutputParser 优化 overall_chain 输出格式，区分 synopsis_chain 和 review_chain 的结果"
   ],
   "metadata": {
    "collapsed": false
   }
  },
  {
   "cell_type": "code",
   "execution_count": null,
   "outputs": [],
   "source": [
    "\n",
    "llm = OpenAI(temperature=0.9, max_tokens=500, openai_api_key=api_key)\n",
    "\n",
    "prompt_1 = PromptTemplate(template=\"你是一个游戏原画设计师，根据关键词生成描述信息，关键词：{keywords}\",\n",
    "                          input_variables=[\"keywords\"])\n",
    "\n",
    "prompt_2 = PromptTemplate(template=\"根据的文本内容，生成原画关键词列表。\\n文本内容：{text_content} \\n{output_prompt}\",\n",
    "                          input_variables=[\"text_content\"],\n",
    "                          partial_variables={\"output_prompt\": output_parser.get_format_instructions()})\n",
    "\n",
    "chain3 = LLMChain(llm=llm, prompt=prompt_1, output_key=\"text_content\")\n",
    "chain4 = LLMChain(llm=llm, prompt=prompt_2, output_key=\"keywords_list\")\n",
    "se_chain = SequentialChain(chains=[chain3, chain4], input_variables=[\"keywords\"],\n",
    "                           output_variables=[\"text_content\", \"keywords_list\"], verbose=True)"
   ],
   "metadata": {
    "collapsed": false
   }
  },
  {
   "cell_type": "code",
   "execution_count": null,
   "outputs": [],
   "source": [
    "result_se_chain = se_chain({\"keywords\": \"12岁的npc少年\"})"
   ],
   "metadata": {
    "collapsed": false
   }
  },
  {
   "cell_type": "code",
   "execution_count": null,
   "outputs": [],
   "source": [
    "output_parser.parse(result_se_chain.get(\"text_content\"))"
   ],
   "metadata": {
    "collapsed": false
   }
  }
 ],
 "metadata": {
  "kernelspec": {
   "display_name": "Python 3",
   "language": "python",
   "name": "python3"
  },
  "language_info": {
   "codemirror_mode": {
    "name": "ipython",
    "version": 2
   },
   "file_extension": ".py",
   "mimetype": "text/x-python",
   "name": "python",
   "nbconvert_exporter": "python",
   "pygments_lexer": "ipython2",
   "version": "2.7.6"
  }
 },
 "nbformat": 4,
 "nbformat_minor": 0
}
