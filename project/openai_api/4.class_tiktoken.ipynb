{
 "cells": [
  {
   "cell_type": "code",
   "execution_count": 3,
   "metadata": {
    "collapsed": true,
    "ExecuteTime": {
     "end_time": "2023-07-26T05:53:33.852966Z",
     "start_time": "2023-07-26T05:53:33.722175Z"
    }
   },
   "outputs": [],
   "source": [
    "import tiktoken"
   ]
  },
  {
   "cell_type": "code",
   "execution_count": 4,
   "outputs": [
    {
     "data": {
      "text/plain": "['gpt2', 'r50k_base', 'p50k_base', 'p50k_edit', 'cl100k_base']"
     },
     "execution_count": 4,
     "metadata": {},
     "output_type": "execute_result"
    }
   ],
   "source": [
    "datas = tiktoken.list_encoding_names()\n",
    "datas"
   ],
   "metadata": {
    "collapsed": false,
    "ExecuteTime": {
     "end_time": "2023-07-26T05:53:35.870055Z",
     "start_time": "2023-07-26T05:53:35.821973Z"
    }
   }
  },
  {
   "cell_type": "code",
   "execution_count": 5,
   "outputs": [],
   "source": [
    "# 封装一个计算token数的函数\n",
    "def token_num(encoding_name, model, string):\n",
    "    tiktoken.get_encoding(encoding_name)\n",
    "    encoding = tiktoken.encoding_for_model(model)\n",
    "    tokens = encoding.encode(string)\n",
    "    print(f\"句子：{string}, tokens:{tokens}, token 数量：{len(tokens)}\")\n",
    "    return len(tokens)\n"
   ],
   "metadata": {
    "collapsed": false,
    "ExecuteTime": {
     "end_time": "2023-07-26T05:53:38.237535Z",
     "start_time": "2023-07-26T05:53:38.234636Z"
    }
   }
  },
  {
   "cell_type": "code",
   "execution_count": 6,
   "outputs": [
    {
     "name": "stdout",
     "output_type": "stream",
     "text": [
      "句子：今天很棒!, tokens:[37271, 36827, 17599, 230, 77062, 240, 0], token 数量：7\n"
     ]
    },
    {
     "data": {
      "text/plain": "7"
     },
     "execution_count": 6,
     "metadata": {},
     "output_type": "execute_result"
    }
   ],
   "source": [
    "encoding_name = \"cl100k_base\"\n",
    "model = \"gpt-3.5-turbo\"\n",
    "string = \"今天很棒!\"\n",
    "token_num(encoding_name, model, string)\n"
   ],
   "metadata": {
    "collapsed": false,
    "ExecuteTime": {
     "end_time": "2023-07-26T05:54:32.252888Z",
     "start_time": "2023-07-26T05:53:40.477050Z"
    }
   }
  },
  {
   "cell_type": "code",
   "execution_count": 9,
   "outputs": [
    {
     "name": "stdout",
     "output_type": "stream",
     "text": [
      "句子：今天很棒!, tokens:[20015, 232, 25465, 36181, 230, 162, 96, 240, 0], token 数量：9\n"
     ]
    },
    {
     "data": {
      "text/plain": "9"
     },
     "execution_count": 9,
     "metadata": {},
     "output_type": "execute_result"
    }
   ],
   "source": [
    "# encoding_name = \"r50k_base\"\n",
    "encoding_name = \"gpt2\"\n",
    "model = \"text-curie-001\"\n",
    "string = \"今天很棒!\"\n",
    "token_num(encoding_name, model, string)"
   ],
   "metadata": {
    "collapsed": false,
    "ExecuteTime": {
     "end_time": "2023-07-26T07:10:30.679880Z",
     "start_time": "2023-07-26T07:10:20.495256Z"
    }
   }
  }
 ],
 "metadata": {
  "kernelspec": {
   "display_name": "Python 3",
   "language": "python",
   "name": "python3"
  },
  "language_info": {
   "codemirror_mode": {
    "name": "ipython",
    "version": 2
   },
   "file_extension": ".py",
   "mimetype": "text/x-python",
   "name": "python",
   "nbconvert_exporter": "python",
   "pygments_lexer": "ipython2",
   "version": "2.7.6"
  }
 },
 "nbformat": 4,
 "nbformat_minor": 0
}
